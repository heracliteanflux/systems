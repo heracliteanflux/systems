{
 "cells": [
  {
   "cell_type": "markdown",
   "metadata": {},
   "source": [
    "$\n",
    "\\begin{aligned}\n",
    "\\texttt{JBOD\\_MOUNT}           &= 000000 \\\\\n",
    "\\texttt{JBOD\\_UNMOUNT}         &= 000001 \\\\\n",
    "\\texttt{JBOD\\_SEEK\\_TO\\_DISK}  &= 000010 \\\\\n",
    "\\texttt{JBOD\\_SEEK\\_TO\\_BLOCK} &= 000011 \\\\\n",
    "\\texttt{JBOD\\_READ\\_BLOCK}     &= 000100 \\\\\n",
    "\\texttt{JBOD\\_WRITE\\_BLOCK}    &= 000101 \\\\\n",
    "\\end  {aligned}\n",
    "$"
   ]
  },
  {
   "cell_type": "markdown",
   "metadata": {},
   "source": [
    "```c\n",
    "int jbod_operation (uint32_t op, uint8_t *block)\n",
    "//                  ^^^^^^^^^^^                  32-bit unsigned int             INSTRUCTION\n",
    "//                               ^^^^^^^^^^^^^^   8-bit unsigned int, pointer to buffer\n",
    "\n",
    "if success\n",
    "  return 0\n",
    "else\n",
    "  return -1\n",
    "```\n",
    "\n",
    "```c\n",
    "int jbod_operation (JBOD_MOUNT, NULL)\n",
    "\n",
    "int jbod_operation (JBOD_UNMOUNT, NULL)\n",
    "\n",
    "int jbod_operation (JBOD_SEEK_TO_DISK, NULL) {\n",
    "  {CurrentDiskID = DiskID, CurrentBlockID = 0}\n",
    "}\n",
    "\n",
    "int jbod_operation (JBOD_SEEK_TO_BLOCK, NULL) {\n",
    "  {CurrentDiskID, CurrentBlockID = BlockID}\n",
    "}\n",
    "\n",
    "int jbod_operation (JBOD_READ_BLOCK, buffer) {\n",
    "  buffer = malloc(sizeof(uint8_t) * 256); // 256 bytes\n",
    "  memcpy();\n",
    "\n",
    "  {CurrentDiskID, CurrentBlockID = CurrentBlockID + 1 block}\n",
    "}\n",
    "\n",
    "int jbod_operation (JBOD_WRITE_BLOCK, buffer) {\n",
    "  buffer = malloc(sizeof(uint8_t) * 256); // 256 bytes\n",
    "  memcpy();\n",
    "\n",
    "  {CurrentDiskID, CurrentBlockID = CurrentBlockID + 1 block}\n",
    "}\n",
    "```"
   ]
  },
  {
   "cell_type": "code",
   "execution_count": 6,
   "metadata": {},
   "outputs": [
    {
     "name": "stdout",
     "output_type": "stream",
     "text": [
      "disk size  : 65,536 B\n",
      "jbod size  : 1,048,576 B\n"
     ]
    }
   ],
   "source": [
    "DISKS                       =  16\n",
    "BLCKS_PER_DISK              = 256\n",
    "BYTES_PER_BLOCK = BLCK_SIZE = 256\n",
    "DISK_SIZE                   = BLCK_SIZE * BLCKS_PER_DISK\n",
    "JBOD_SIZE                   = DISK_SIZE * DISKS\n",
    "\n",
    "print(f'disk size  : {DISK_SIZE:,} B')\n",
    "print(f'jbod size  : {JBOD_SIZE:,} B')"
   ]
  },
  {
   "cell_type": "code",
   "execution_count": 7,
   "metadata": {},
   "outputs": [
    {
     "name": "stdout",
     "output_type": "stream",
     "text": [
      "start_addr :        224\n",
      "read_len   :      1,024\n"
     ]
    }
   ],
   "source": [
    "start_addr = 224\n",
    "read_len   = 2**10\n",
    "\n",
    "assert(0 <= start_addr <= 2**20)\n",
    "assert(0 <= read_len   <= 2**10)\n",
    "\n",
    "print(f'start_addr : {start_addr:>10,}')\n",
    "print(f'read_len   : {read_len  :>10,}')"
   ]
  },
  {
   "cell_type": "code",
   "execution_count": 8,
   "metadata": {},
   "outputs": [
    {
     "name": "stdout",
     "output_type": "stream",
     "text": [
      "disk : 0\n",
      "blck : 0\n",
      "ofst : 224\n",
      "0 disks x DISK_SIZE + 0 blcks x BLCK_SIZE + 224 = 224\n"
     ]
    }
   ],
   "source": [
    "disk_id = start_addr // DISK_SIZE\n",
    "blck_id = start_addr  % DISK_SIZE // BLCK_SIZE\n",
    "ofst    = start_addr  % DISK_SIZE  % BLCK_SIZE\n",
    "\n",
    "print(f'disk : {disk_id}')\n",
    "print(f'blck : {blck_id}')\n",
    "print(f'ofst : {ofst}')\n",
    "orig_addr = disk_id * DISK_SIZE + blck_id * BLCK_SIZE + ofst\n",
    "print(f'{disk_id} disks x DISK_SIZE + {blck_id} blcks x BLCK_SIZE + {ofst} = {orig_addr}')"
   ]
  },
  {
   "cell_type": "code",
   "execution_count": 43,
   "metadata": {},
   "outputs": [
    {
     "name": "stdout",
     "output_type": "stream",
     "text": [
      "      1   143     0     102144   102\n",
      "   disk  blck  ofst       sadr  rdln  numb\n",
      "\n",
      "0     1   143     0     102144   102   102\n",
      "1     1   143   102     102246     0     0\n"
     ]
    }
   ],
   "source": [
    "             # requirements\n",
    "sadr = 102380 - 236   ; assert(0 <= sadr < 2**20)\n",
    "rdln = 102 ; assert(0 <= rdln <= 2**10)\n",
    "\n",
    "disk = sadr // DISK_SIZE\n",
    "blck = sadr  % DISK_SIZE // BLCK_SIZE\n",
    "ofst = sadr  % DISK_SIZE  % BLCK_SIZE\n",
    "\n",
    "# print(f'sadr : {sadr:>10,}')\n",
    "# print(f'rdln : {rdln:>10,}')\n",
    "# print(f'ofst : {ofst:>10,}')\n",
    "# print()\n",
    "print(f'  { disk :>5} { blck :>5} { ofst :>5} { sadr :>10} { rdln :>5}')\n",
    "print(f\"  {'disk':>5} {'blck':>5} {'ofst':>5} {'sadr':>10} {'rdln':>5} {'numb':>5}\")\n",
    "print()\n",
    "\n",
    "i = 0\n",
    "while (rdln > 0):\n",
    "  numb = BLCK_SIZE - ofst if rdln >= (BLCK_SIZE - ofst) else rdln #- ofst\n",
    "\n",
    "\n",
    "  print(f'{i} {disk:>5} {blck:>5} {ofst:>5} {sadr:>10} {rdln:>5} {numb:>5}')\n",
    "\n",
    "  rdln -= numb\n",
    "  sadr += numb\n",
    "\n",
    "  disk = sadr // DISK_SIZE\n",
    "  blck = sadr  % DISK_SIZE // BLCK_SIZE\n",
    "  ofst = sadr  % DISK_SIZE  % BLCK_SIZE\n",
    "\n",
    "  i += 1\n",
    "\n",
    "print(f'{i} {disk:>5} {blck:>5} {ofst:>5} {sadr:>10} {rdln:>5} {\"0\":>5}')"
   ]
  }
 ],
 "metadata": {
  "kernelspec": {
   "display_name": "ml",
   "language": "python",
   "name": "python3"
  },
  "language_info": {
   "codemirror_mode": {
    "name": "ipython",
    "version": 3
   },
   "file_extension": ".py",
   "mimetype": "text/x-python",
   "name": "python",
   "nbconvert_exporter": "python",
   "pygments_lexer": "ipython3",
   "version": "3.11.9"
  }
 },
 "nbformat": 4,
 "nbformat_minor": 2
}
