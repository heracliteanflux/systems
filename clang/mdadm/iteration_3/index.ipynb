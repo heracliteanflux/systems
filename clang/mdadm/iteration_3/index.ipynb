{
 "cells": [
  {
   "cell_type": "markdown",
   "metadata": {},
   "source": [
    "CPU cache\n",
    "* key - memory address\n",
    "* val - data at that memory address\n",
    "* when CPU wants to access data at some memory address: is memory address a key in the cache? if so, CPU reads data from the cache; if not, fetch from main memory\n",
    "\n",
    "Browser Cache\n",
    "* key - image URL\n",
    "* val - image file\n",
    "* visit a website - the browser fetches the HTML file from the web server, parses the HTML file, and finds the URLs for the images appearing on the web page\n",
    "\n",
    "Block Cache\n",
    "* key - (disk_num, blck_num) - identifies a specific block in JBOD\n",
    "* val - the contents of the block\n",
    "\n",
    "`mdadm_read`\n",
    "* check if block is in the cache; if it is then copy it from cache without calling JBOD_READ_BLOCK; if not then read it from JBOD and insert it into the cache\n",
    "\n",
    "implement cache as separate module and integrate it into `mdadm_read` and `mdadm_write`"
   ]
  },
  {
   "cell_type": "markdown",
   "metadata": {},
   "source": [
    "The $\\overset{2^0}{1} \\,\\,\\overset{2^{20}}{\\text{MB}}$ JBOD is organized into $\\overset{2^8}{256}\\text{-B}$ memory blocks for a total of $\\overset{2^{12}}{4,096}$ memory blocks.\n",
    "\n",
    "$\n",
    "\\begin{aligned}\n",
    "\\frac{1 \\,\\,\\text{MB}}{\\text{JBOD}} &\\times \\frac{1 \\,\\,\\text{block}}{256 \\,\\,\\text{B}} &&= 4,096 \\,\\,\\text{memory block} \\\\\n",
    "\\end  {aligned}\n",
    "$\n",
    "\n",
    "A cache of $\\overset{2^k}{n} \\,\\,\\text{B}$ is organized into $\\overset{2^8}{256}\\text{-B}$ cache blocks for a total of $\\overset{2^{k - 8}}{?}$ cache blocks.\n",
    "\n",
    "$\n",
    "\\begin{aligned}\n",
    "\\frac{n \\,\\,\\text{B}}{\\text{cache}} &\\times \\frac{1 \\,\\,\\text{block}}{256 \\,\\,\\text{B}} &&= ? \\,\\,\\text{cache block} \\\\\n",
    "\\end  {aligned}\n",
    "$\n",
    "\n",
    "A minimum of $\\ell = 20$ bits is needed to uniquely represent a memory address in a $1\\text{-MB}$ memory. Regardless of the cache placement policy, the incoming $20\\text{-bit}$ memory address will contain $8$ offset bits because there are $2^8 \\,\\,\\text{B per cache block}$.\n",
    "\n",
    "$b = \\log_2 256 = 8$"
   ]
  },
  {
   "cell_type": "markdown",
   "metadata": {},
   "source": [
    "If the cache is $\\overset{m}{2}$-way **set associative** then there are $2$ cache blocks per cache set. There are $\\overset{n}{32}$ cache sets and the cache is represented as a $32 \\times 2$ matrix. The incoming $20\\text{-bit}$ memory address will contain $5$ index bits in order to uniquely represent the $2^5$ cache sets, and $14 - 5 - 2 = 7$ tag bits.\n",
    "\n",
    "$\\underbrace{00 \\, 0000 \\, 0}_{\\text{tag}}\\underbrace{000 \\, 00}_{\\text{index}}\\underbrace{00}_{\\text{offset}}$"
   ]
  },
  {
   "cell_type": "markdown",
   "metadata": {},
   "source": [
    "$\n",
    "\\begin{aligned}\n",
    "2^1    \\times 256 && 2^9    \\\\\n",
    "2^{12} \\times 256 && 2^{20} \\\\\n",
    "\\end  {aligned}\n",
    "$"
   ]
  }
 ],
 "metadata": {
  "kernelspec": {
   "display_name": "ml",
   "language": "python",
   "name": "python3"
  },
  "language_info": {
   "codemirror_mode": {
    "name": "ipython",
    "version": 3
   },
   "file_extension": ".py",
   "mimetype": "text/x-python",
   "name": "python",
   "nbconvert_exporter": "python",
   "pygments_lexer": "ipython3",
   "version": "3.11.9"
  }
 },
 "nbformat": 4,
 "nbformat_minor": 2
}
